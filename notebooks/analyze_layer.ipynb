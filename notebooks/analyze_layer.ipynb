{
 "cells": [
  {
   "cell_type": "code",
   "execution_count": 1,
   "metadata": {},
   "outputs": [],
   "source": [
    "import sys\n",
    "sys.path.append(\"../\")\n",
    "import os\n",
    "from encoding.encoding import encoder\n",
    "from encoding.fmri_roi_loader import load_roi\n",
    "import numpy as np\n",
    "from himalaya.scoring import correlation_score\n",
    "from himalaya.backend import set_backend\n",
    "import matplotlib.pyplot as plt\n",
    "backend = set_backend(\"torch_cuda\", on_error=\"warn\")"
   ]
  },
  {
   "cell_type": "code",
   "execution_count": 24,
   "metadata": {},
   "outputs": [],
   "source": [
    "resp_path = \"/mount/nfs5/matsuyama-takuya/dataset/alg2023\"\n",
    "stim_path = \"/mount/nfs5/matsuyama-takuya/dataset/alg2023/features\"\n",
    "save_path = \"/mount/nfs5/matsuyama-takuya/dataset/alg2023/results\"\n",
    "model_name = \"eva02-clip-enormous\"\n",
    "subjects = [f\"subj{str(s).zfill(2)}\" for s in range(1, 9)]\n",
    "use_n_samples = 100\n",
    "n_layers = 13\n",
    "test_split = 0.1"
   ]
  },
  {
   "cell_type": "code",
   "execution_count": 27,
   "metadata": {},
   "outputs": [
    {
     "name": "stdout",
     "output_type": "stream",
     "text": [
      "Using subj01's response data...\n",
      "Extracting features from layer1\n",
      "Response shape = (100, 19004)\n",
      "Stimulus shape = (100, 1792, 16, 16)\n",
      "trn_n_samples = 90, test_n_samples = 10\n",
      "Solving kernel ridge regression...\n",
      "Mean cv scores: 0.1757555603981018\n",
      "Mean test scores: 0.09765589982271194\n",
      "Extracting features from layer5\n",
      "Response shape = (100, 19004)\n",
      "Stimulus shape = (100, 1792, 16, 16)\n",
      "trn_n_samples = 90, test_n_samples = 10\n",
      "Solving kernel ridge regression...\n",
      "Mean cv scores: 0.22009901702404022\n",
      "Mean test scores: 0.1189742311835289\n",
      "Extracting features from layer9\n",
      "Response shape = (100, 19004)\n",
      "Stimulus shape = (100, 1792, 16, 16)\n",
      "trn_n_samples = 90, test_n_samples = 10\n",
      "Solving kernel ridge regression...\n",
      "Mean cv scores: 0.2397826761007309\n",
      "Mean test scores: 0.1388183832168579\n",
      "Extracting features from layer13\n",
      "Response shape = (100, 19004)\n",
      "Stimulus shape = (100, 1792, 16, 16)\n",
      "trn_n_samples = 90, test_n_samples = 10\n",
      "Solving kernel ridge regression...\n",
      "Mean cv scores: 0.2401767373085022\n",
      "Mean test scores: 0.15586557984352112\n",
      "Extracting features from layer1\n",
      "Response shape = (100, 20544)\n",
      "Stimulus shape = (100, 1792, 16, 16)\n",
      "trn_n_samples = 90, test_n_samples = 10\n",
      "Solving kernel ridge regression...\n",
      "Mean cv scores: 0.16242089867591858\n",
      "Mean test scores: 0.15519781410694122\n",
      "Extracting features from layer5\n",
      "Response shape = (100, 20544)\n",
      "Stimulus shape = (100, 1792, 16, 16)\n",
      "trn_n_samples = 90, test_n_samples = 10\n",
      "Solving kernel ridge regression...\n",
      "Mean cv scores: 0.20901674032211304\n",
      "Mean test scores: 0.14349530637264252\n",
      "Extracting features from layer9\n",
      "Response shape = (100, 20544)\n",
      "Stimulus shape = (100, 1792, 16, 16)\n",
      "trn_n_samples = 90, test_n_samples = 10\n",
      "Solving kernel ridge regression...\n",
      "Mean cv scores: 0.22995738685131073\n",
      "Mean test scores: 0.14738547801971436\n",
      "Extracting features from layer13\n",
      "Response shape = (100, 20544)\n",
      "Stimulus shape = (100, 1792, 16, 16)\n",
      "trn_n_samples = 90, test_n_samples = 10\n",
      "Solving kernel ridge regression...\n",
      "Mean cv scores: 0.23326918482780457\n",
      "Mean test scores: 0.1507873386144638\n",
      "Using subj02's response data...\n",
      "Extracting features from layer1\n",
      "Response shape = (100, 19004)\n",
      "Stimulus shape = (100, 1792, 16, 16)\n",
      "trn_n_samples = 90, test_n_samples = 10\n",
      "Solving kernel ridge regression...\n",
      "Mean cv scores: 0.14989909529685974\n",
      "Mean test scores: 0.08754759281873703\n",
      "Extracting features from layer5\n",
      "Response shape = (100, 19004)\n",
      "Stimulus shape = (100, 1792, 16, 16)\n",
      "trn_n_samples = 90, test_n_samples = 10\n",
      "Solving kernel ridge regression...\n",
      "Mean cv scores: 0.18571726977825165\n",
      "Mean test scores: 0.16802114248275757\n",
      "Extracting features from layer9\n",
      "Response shape = (100, 19004)\n",
      "Stimulus shape = (100, 1792, 16, 16)\n",
      "trn_n_samples = 90, test_n_samples = 10\n",
      "Solving kernel ridge regression...\n",
      "Mean cv scores: 0.213270366191864\n",
      "Mean test scores: 0.21908512711524963\n",
      "Extracting features from layer13\n",
      "Response shape = (100, 19004)\n",
      "Stimulus shape = (100, 1792, 16, 16)\n",
      "trn_n_samples = 90, test_n_samples = 10\n",
      "Solving kernel ridge regression...\n",
      "Mean cv scores: 0.21787233650684357\n",
      "Mean test scores: 0.23199662566184998\n",
      "Extracting features from layer1\n",
      "Response shape = (100, 20544)\n"
     ]
    }
   ],
   "source": [
    "subjects_scores = {}\n",
    "for sub in subjects:\n",
    "    if sub=='subj03':\n",
    "        break\n",
    "    print(f\"Using {sub}'s response data...\")\n",
    "    subjects_scores[sub] = {}\n",
    "    for hemi in [\"lh\", \"rh\"]:\n",
    "        for layer in range(1, n_layers+1, 4):\n",
    "            print(f\"Extracting features from layer{layer}\")\n",
    "            resp = np.load(f\"{resp_path}/{sub}/training_split/training_fmri/{hemi}_training_fmri.npy\")\n",
    "            resp = resp[:use_n_samples]\n",
    "            print(f\"Response shape = {resp.shape}\")\n",
    "\n",
    "            stim = np.load(f\"{stim_path}/{model_name}/{sub}/training/layer{layer}.npy\")\n",
    "            stim = stim[:use_n_samples]\n",
    "            print(f\"Stimulus shape = {stim.shape}\")\n",
    "\n",
    "            n_samples_test = int(use_n_samples * test_split)\n",
    "            n_samples_trn = int(use_n_samples * (1 - test_split))\n",
    "            resp_trn = resp[:n_samples_trn]\n",
    "            resp_test = resp[-n_samples_test:]\n",
    "            print(f\"trn_n_samples = {resp_trn.shape[0]}, test_n_samples = {resp_test.shape[0]}\")\n",
    "\n",
    "\n",
    "            flat_stim =stim.reshape(stim.shape[0], -1)\n",
    "            flat_stim_trn = flat_stim[:n_samples_trn]\n",
    "            flat_stim_test = flat_stim[-n_samples_test:]\n",
    "\n",
    "            _, ridge = encoder(flat_stim_trn, resp_trn, return_model=True)\n",
    "            resp_pred_test = ridge.predict(flat_stim_test)\n",
    "            scores = correlation_score(resp_test, resp_pred_test)\n",
    "            scores = backend.to_numpy(scores)\n",
    "            print(f\"Mean test scores: {np.mean(scores)}\")\n",
    "\n",
    "            subjects_scores[sub][layer] = scores\n",
    "\n",
    "        scores_save_dir = f\"{save_path}/{model_name}/scores/\"\n",
    "        os.makedirs(scores_save_dir, exist_ok=True)\n",
    "        np.save(f\"{scores_save_dir}/{hemi}_test_scores.npy\", subjects_scores)"
   ]
  },
  {
   "cell_type": "code",
   "execution_count": 12,
   "metadata": {},
   "outputs": [
    {
     "data": {
      "image/png": "[encoded data removed]",
      "text/plain": [
       "<Figure size 640x480 with 1 Axes>"
      ]
     },
     "metadata": {},
     "output_type": "display_data"
    }
   ],
   "source": [
    "subjects_scores = np.load(f\"{scores_save_dir}/test_scores.npy\", allow_pickle=True)\n",
    "subjects_scores = subjects_scores.item()\n",
    "color_list =['b', 'g', 'r', 'c', 'm', 'y', 'k', '0.5']\n",
    "fig = plt.figure()\n",
    "for subname, sub_scores in subjects_scores.items():\n",
    "    layer_indice = []\n",
    "    layer_mean_scores = []\n",
    "    for (layer_index, layer_scores), color in zip(sub_scores.items(), color_list):\n",
    "        layer_indice.append(layer_index)\n",
    "        layer_mean_scores.append(np.median(layer_scores))\n",
    "        \n",
    "    plt.plot(layer_indice, layer_mean_scores, marker=\"o\", color=color, label=subname)\n",
    "\n",
    "plt.grid()\n",
    "plt.legend()\n",
    "plt.show()\n",
    "fig_save_path = f\"{save_path}/{model_name}/figures\"\n",
    "os.makedirs(fig_save_path, exist_ok=True)\n",
    "fig.savefig(f\"{fig_save_path}/layer_scores.png\")"
   ]
  },
  {
   "cell_type": "code",
   "execution_count": 17,
   "metadata": {},
   "outputs": [
    {
     "data": {
      "text/plain": [
       "array([    2,     5,    12, ..., 17684, 17685, 17686])"
      ]
     },
     "execution_count": 17,
     "metadata": {},
     "output_type": "execute_result"
    }
   ],
   "source": [
    "lh_roi_idx"
   ]
  },
  {
   "cell_type": "code",
   "execution_count": 16,
   "metadata": {},
   "outputs": [
    {
     "data": {
      "text/plain": [
       "dict_keys(['V1v', 'V1d', 'V2v', 'V2d', 'V3v', 'V3d', 'hV4', 'EBA', 'FBA-1', 'FBA-2', 'mTL-bodies', 'OFA', 'FFA-1', 'FFA-2', 'mTL-faces', 'aTL-faces', 'OPA', 'PPA', 'RSC', 'OWFA', 'VWFA-1', 'VWFA-2', 'mfs-words', 'mTL-words', 'early', 'midventral', 'midlateral', 'midparietal', 'ventral', 'lateral', 'parietal'])"
      ]
     },
     "execution_count": 16,
     "metadata": {},
     "output_type": "execute_result"
    }
   ],
   "source": [
    "\n",
    "lh_roi.keys()"
   ]
  },
  {
   "cell_type": "code",
   "execution_count": 21,
   "metadata": {},
   "outputs": [
    {
     "data": {
      "text/plain": [
       "{'subj01': {1: array([ 0.49373665,  0.20211644,  0.49731064, ..., -0.07401621,\n",
       "         -0.14793932,  0.04871239], dtype=float32),\n",
       "  5: array([ 0.19967496,  0.5761174 ,  0.21586935, ...,  0.21431868,\n",
       "          0.20453267, -0.12512249], dtype=float32),\n",
       "  9: array([ 0.2006954 ,  0.45256576,  0.34047365, ...,  0.270303  ,\n",
       "          0.20921913, -0.01363847], dtype=float32),\n",
       "  13: array([ 0.21123362,  0.3776499 ,  0.41530266, ...,  0.24024661,\n",
       "          0.17696357, -0.09763588], dtype=float32)}}"
      ]
     },
     "execution_count": 21,
     "metadata": {},
     "output_type": "execute_result"
    }
   ],
   "source": [
    "lh_scores.item()"
   ]
  },
  {
   "cell_type": "code",
   "execution_count": 26,
   "metadata": {},
   "outputs": [
    {
     "ename": "KeyError",
     "evalue": "'subj02'",
     "output_type": "error",
     "traceback": [
      "\u001b[0;31m---------------------------------------------------------------------------\u001b[0m",
      "\u001b[0;31mKeyError\u001b[0m                                  Traceback (most recent call last)",
      "Cell \u001b[0;32mIn[26], line 6\u001b[0m\n\u001b[1;32m      4\u001b[0m sub_mean_scores \u001b[39m=\u001b[39m []\n\u001b[1;32m      5\u001b[0m \u001b[39mfor\u001b[39;00m sub \u001b[39min\u001b[39;00m subjects:\n\u001b[0;32m----> 6\u001b[0m     lh_sub_scores \u001b[39m=\u001b[39m lh_scores[sub]\n\u001b[1;32m      7\u001b[0m     rh_sub_scores \u001b[39m=\u001b[39m rh_scores[sub]\n\u001b[1;32m      8\u001b[0m     layer_idx_list \u001b[39m=\u001b[39m []\n",
      "\u001b[0;31mKeyError\u001b[0m: 'subj02'"
     ]
    }
   ],
   "source": [
    "lh_scores = np.load(os.path.join(save_path, model_name, \"scores/lh_test_scores.npy\"), allow_pickle=True).item()\n",
    "rh_scores = np.load(os.path.join(save_path, model_name, \"scores/rh_test_scores.npy\"), allow_pickle=True).item()\n",
    "roi_name, _ = load_roi(resp_path, 'subj01')\n",
    "roi_names = roi_name.keys()\n",
    "for roi in roi_names:\n",
    "    sub_mean_scores = []\n",
    "    for sub in subjects:\n",
    "        lh_roi, rh_roi = load_roi(resp_path, sub)\n",
    "        lh_roi_idx = lh_roi[sub]\n",
    "        rh_roi_idx = rh_roi[sub]\n",
    "        lh_sub_scores = lh_scores[sub]\n",
    "        rh_sub_scores = rh_scores[sub]\n",
    "        layer_idx_list = []\n",
    "        layer_scores = []\n",
    "        for (lh_layer_idx, lh_layer_scores), (rh_layer_idx, rh_layer_scores) in zip(lh_sub_scores.items(), rh_sub_scores.items()):\n",
    "            layer_idx_list.append(lh_layer_idx)\n",
    "            both_scores = (np.median(lh_layer_scores[lh_roi_idx]) + np.median(rh_layer_scores[rh_roi_idx])) / 2.0\n",
    "            layer_scores.append(both_scores)\n",
    "        layer_scores = np.array(layer_scores)\n",
    "        sub_mean_scores.append(layer_scores)\n",
    "    sub_mean_scores = np.array(sub_mean_scores)\n",
    "    print(sub_mean_scores)\n",
    "    break\n",
    "    "
   ]
  },
  {
   "cell_type": "code",
   "execution_count": null,
   "metadata": {},
   "outputs": [],
   "source": []
  }
 ],
 "metadata": {
  "kernelspec": {
   "display_name": "torch-img",
   "language": "python",
   "name": "python3"
  },
  "language_info": {
   "codemirror_mode": {
    "name": "ipython",
    "version": 3
   },
   "file_extension": ".py",
   "mimetype": "text/x-python",
   "name": "python",
   "nbconvert_exporter": "python",
   "pygments_lexer": "ipython3",
   "version": "3.8.0"
  },
  "orig_nbformat": 4
 },
 "nbformat": 4,
 "nbformat_minor": 2
}
